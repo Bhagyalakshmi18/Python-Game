{
 "cells": [
  {
   "cell_type": "markdown",
   "metadata": {},
   "source": [
    "## Prerequisite Installations"
   ]
  },
  {
   "cell_type": "code",
   "execution_count": null,
   "metadata": {},
   "outputs": [],
   "source": [
    "#!pip install pygame"
   ]
  },
  {
   "cell_type": "markdown",
   "metadata": {},
   "source": [
    "## Importing Packages"
   ]
  },
  {
   "cell_type": "code",
   "execution_count": 1,
   "metadata": {},
   "outputs": [
    {
     "name": "stdout",
     "output_type": "stream",
     "text": [
      "pygame 1.9.6\n",
      "Hello from the pygame community. https://www.pygame.org/contribute.html\n"
     ]
    }
   ],
   "source": [
    "import pygame\n",
    "import math\n",
    "import random\n",
    "from pygame import mixer"
   ]
  },
  {
   "cell_type": "code",
   "execution_count": 2,
   "metadata": {},
   "outputs": [
    {
     "data": {
      "text/plain": [
       "(6, 0)"
      ]
     },
     "execution_count": 2,
     "metadata": {},
     "output_type": "execute_result"
    }
   ],
   "source": [
    "#Initializing pygame\n",
    "pygame.init()"
   ]
  },
  {
   "cell_type": "code",
   "execution_count": 3,
   "metadata": {},
   "outputs": [],
   "source": [
    "# Creating a window with height and weight dimensions\n",
    "screen = pygame.display.set_mode((800, 600))\n",
    "\n",
    "#Background\n",
    "background = pygame.image.load('bg.png')\n",
    "\n",
    "#Backgroun sound\n",
    "mixer.music.load('background.wav')\n",
    "mixer.music.play(-1)\n",
    "\n",
    "#Title and Icon(32x32 bit PNG icon)\n",
    "pygame.display.set_caption(\"Chicken Invaders\")\n",
    "icon = pygame.image.load('chick.png')\n",
    "pygame.display.set_icon(icon)\n",
    "\n",
    "#Player\n",
    "playerImg = pygame.image.load('play.png')\n",
    "playerX = 370\n",
    "playerY = 480\n",
    "playerX_change = 0\n",
    "\n",
    "#Enemy\n",
    "enemyImg = []\n",
    "enemyX = []\n",
    "enemyY = []\n",
    "enemyX_change = [] \n",
    "enemyY_change = []\n",
    "no_of_enemies = 7\n",
    "\n",
    "for i in range(no_of_enemies):\n",
    "    enemyImg.append(pygame.image.load('chicken.png'))\n",
    "    enemyX.append(random.randint(0,735))\n",
    "    enemyY.append(random.randint(0,100))\n",
    "    enemyX_change.append(0.6)\n",
    "    enemyY_change.append(40)\n",
    "\n",
    "#Bullet\n",
    "bulletImg = pygame.image.load('bullet.png')\n",
    "bulletX = 0\n",
    "bulletY = 480\n",
    "bulletX_change = 0\n",
    "bulletY_change = 5\n",
    "bullet_state = \"ready\"  #Ready: You can't see the bullet on screen\n",
    "#Fire: The bullet is currently moving\n",
    "\n",
    "#Score\n",
    "score = 0\n",
    "font = pygame.font.Font('freesansbold.ttf', 32)\n",
    "\n",
    "testX = 10\n",
    "testY = 10\n",
    "\n",
    "#GameOver Text\n",
    "over_font = pygame.font.Font('freesansbold.ttf', 64)\n",
    "\n",
    "\n",
    "def show_score(x,y):\n",
    "    final_score = font.render(\"Score:\" + str(score), True, (255,255,255))\n",
    "    screen.blit(final_score, (x,y))\n",
    "\n",
    "def game_over_text():\n",
    "    over_text = over_font.render(\"Game Over!!\", True, (255,255,255))\n",
    "    screen.blit(over_text, (200,250))\n",
    "    \n",
    "def player(x,y):\n",
    "    '''\n",
    "    blit: draws an image on the screen\n",
    "    '''\n",
    "    screen.blit(playerImg, (round(x),round(y)))      \n",
    "    \n",
    "def enemy(x,y,i):\n",
    "    screen.blit(enemyImg[i], (round(x),round(y)))\n",
    "    \n",
    "def fire_bullet(x,y):\n",
    "    global bullet_state\n",
    "    bullet_state = \"fire\"\n",
    "    screen.blit(bulletImg, (x+16 , y+10))    \n",
    "\n",
    "def isCollision(enemyX, enemyY, bulletX, bulletY):\n",
    "    distance = math.sqrt((math.pow(enemyX-bulletX,2)) + (math.pow(enemyY-bulletY,2)))\n",
    "    if distance < 27:\n",
    "        return True\n",
    "    else:\n",
    "        return False\n",
    "    \n",
    "#For the window to hold on and quit when close event occurs - Game loop\n",
    "running = True\n",
    "while running:\n",
    "    \n",
    "    #RGB - Red, Green, Blue  (For reference: https://www.rapidtables.com/convert/color/hex-to-rgb.html)\n",
    "    screen.fill((0,0,0))\n",
    "    #Background Image\n",
    "    screen.blit(background, (0,0))\n",
    "    for event in pygame.event.get():\n",
    "        if event.type == pygame.QUIT:\n",
    "            running = False\n",
    "            \n",
    "        # pressing keystrokes for the event to occur\n",
    "        if event.type == pygame.KEYDOWN:\n",
    "            if event.key == pygame.K_LEFT:\n",
    "                playerX_change = -2\n",
    "            if event.key == pygame.K_RIGHT:\n",
    "                playerX_change = 2\n",
    "            if event.key == pygame.K_SPACE:\n",
    "                if bullet_state == \"ready\":\n",
    "                    bullet_Sound = mixer.Sound('fire.wav')\n",
    "                    bullet_Sound.play()\n",
    "                    bulletX = playerX         #current x cordinate\n",
    "                    fire_bullet(bulletX, bulletY)\n",
    "        \n",
    "        if event.type == pygame.KEYUP:\n",
    "            if event.key == pygame.K_LEFT or event.key == pygame.K_RIGHT:\n",
    "                playerX_change = 0\n",
    "    \n",
    "    #Boundaries for player\n",
    "    playerX += playerX_change\n",
    "    \n",
    "    if playerX <=0:\n",
    "        playerX = 0\n",
    "    elif playerX >=736:\n",
    "        playerX = 736\n",
    "    \n",
    "    #Boundaries for enemy\n",
    "    for i in range(no_of_enemies):\n",
    "        \n",
    "        #Game Over\n",
    "        if enemyY[i] > 440:\n",
    "            for j in range(no_of_enemies):\n",
    "                enemyY[j] = 2000\n",
    "            game_over_text()\n",
    "            break\n",
    "        \n",
    "        enemyX[i] += enemyX_change[i]\n",
    "        if enemyX[i] <=0:\n",
    "            enemyX_change[i] = 0.6     #hitting on left boudary starts moving towards right\n",
    "            enemyY[i] += enemyY_change[i]\n",
    "        elif enemyX[i] >=736:\n",
    "            enemyX_change[i] = -0.6\n",
    "            enemyY[i] += enemyY_change[i]\n",
    "            \n",
    "        #Collision\n",
    "        collision = isCollision(enemyX[i], enemyY[i], bulletX, bulletY)\n",
    "        if collision:\n",
    "            explosion_Sound = mixer.Sound('kill.wav')\n",
    "            explosion_Sound.play()\n",
    "            bulletY = 480\n",
    "            bullet_state = \"ready\"\n",
    "            score += 1\n",
    "            enemyX[i] = random.randint(0,735)\n",
    "            enemyY[i] = random.randint(0,100)\n",
    "            \n",
    "        enemy(enemyX[i], enemyY[i], i)\n",
    "\n",
    "    #Bullet Movement\n",
    "    if bulletY <=0:\n",
    "        bulletY =480\n",
    "        bullet_state = \"ready\"\n",
    "    \n",
    "    if bullet_state == \"fire\":\n",
    "        fire_bullet(bulletX, bulletY)\n",
    "        bulletY -= bulletY_change\n",
    "                \n",
    "    player(playerX, playerY)\n",
    "    show_score(testX,testY)\n",
    "    pygame.display.update()"
   ]
  },
  {
   "cell_type": "code",
   "execution_count": null,
   "metadata": {},
   "outputs": [],
   "source": []
  },
  {
   "cell_type": "code",
   "execution_count": null,
   "metadata": {},
   "outputs": [],
   "source": []
  }
 ],
 "metadata": {
  "kernelspec": {
   "display_name": "Python 3",
   "language": "python",
   "name": "python3"
  },
  "language_info": {
   "codemirror_mode": {
    "name": "ipython",
    "version": 3
   },
   "file_extension": ".py",
   "mimetype": "text/x-python",
   "name": "python",
   "nbconvert_exporter": "python",
   "pygments_lexer": "ipython3",
   "version": "3.8.2"
  }
 },
 "nbformat": 4,
 "nbformat_minor": 4
}
